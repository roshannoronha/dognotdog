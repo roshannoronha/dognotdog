{
  "nbformat": 4,
  "nbformat_minor": 0,
  "metadata": {
    "colab": {
      "name": "V1-dognotdog-basic.ipynb",
      "provenance": [],
      "collapsed_sections": []
    },
    "kernelspec": {
      "name": "python3",
      "display_name": "Python 3"
    },
    "accelerator": "GPU"
  },
  "cells": [
    {
      "cell_type": "code",
      "metadata": {
        "id": "4mIBQtupGHK_",
        "colab_type": "code",
        "colab": {}
      },
      "source": [
        "##Written by Roshan Noronha\n",
        "##Date: August 29, 2019\n",
        "##Purpose: The purpose of this notebook is to implement a convolutional neural network that can recognize dogs.\n",
        "\n",
        "##Note: This code is 79% accurate."
      ],
      "execution_count": 0,
      "outputs": []
    },
    {
      "cell_type": "code",
      "metadata": {
        "id": "DLoqDU6mNGvs",
        "colab_type": "code",
        "colab": {}
      },
      "source": [
        "#link google drive\n",
        "#the trained model will be saved in google drive to be accessed later\n",
        "#THIS IS IMPORTANT!\n",
        "from google.colab import drive\n",
        "drive.mount('/content/drive')"
      ],
      "execution_count": 0,
      "outputs": []
    },
    {
      "cell_type": "code",
      "metadata": {
        "id": "SWv-K-cASlFW",
        "colab_type": "code",
        "colab": {}
      },
      "source": [
        "#get dog and cat pictures from kaggle\n",
        "#https://www.kaggle.com/general/74235\n",
        "#command line commands are prefaced with a !\n",
        "\n",
        "!pip install -q kaggle\n",
        "from google.colab import files\n",
        "files.upload()"
      ],
      "execution_count": 0,
      "outputs": []
    },
    {
      "cell_type": "code",
      "metadata": {
        "id": "fOx6V3E3Tm5c",
        "colab_type": "code",
        "colab": {}
      },
      "source": [
        "#create a kaggle directory and move files the kaggle.json file there\n",
        "!mkdir ~/.kaggle\n",
        "!cp kaggle.json ~/.kaggle/\n",
        "\n",
        "#change permissions of kaggle.json\n",
        "!chmod 600 ~/.kaggle/kaggle.json\n",
        "\n",
        "#check that kaggle datasets show up\n",
        "!kaggle datasets list"
      ],
      "execution_count": 0,
      "outputs": []
    },
    {
      "cell_type": "code",
      "metadata": {
        "id": "KhtL3-B7U-MU",
        "colab_type": "code",
        "colab": {}
      },
      "source": [
        "#get dog and cat pictures from kaggle\n",
        "!kaggle competitions download -c dogs-vs-cats"
      ],
      "execution_count": 0,
      "outputs": []
    },
    {
      "cell_type": "code",
      "metadata": {
        "id": "c5U78S0rVeOu",
        "colab_type": "code",
        "colab": {}
      },
      "source": [
        "#unzip training and testing data\n",
        "!unzip train.zip -d train\n",
        "!unzip test1.zip -d test"
      ],
      "execution_count": 0,
      "outputs": []
    },
    {
      "cell_type": "code",
      "metadata": {
        "id": "uChRhqa4WxDa",
        "colab_type": "code",
        "colab": {}
      },
      "source": [
        "#the training folder has dog and cat images together. These need to be in two seperate folders.\n",
        "!mkdir train/cats/\n",
        "!mkdir train/dogs/\n",
        "!mkdir models/\n",
        "\n",
        "!find train/train/ | grep \"/dog.[0-9]*.jpg\" | xargs mv -t train/dogs/\n",
        "!find train/train/ | grep \"/cat.[0-9]*.jpg\" | xargs mv -t train/cats/"
      ],
      "execution_count": 0,
      "outputs": []
    },
    {
      "cell_type": "code",
      "metadata": {
        "id": "9KFQ3v5sP5nG",
        "colab_type": "code",
        "colab": {}
      },
      "source": [
        "#train folder is empty so it should be removed\n",
        "rm -r train/train/"
      ],
      "execution_count": 0,
      "outputs": []
    },
    {
      "cell_type": "code",
      "metadata": {
        "id": "pAwEb6FOlHLo",
        "colab_type": "code",
        "colab": {}
      },
      "source": [
        "#install gpu-tensorflow and check version\n",
        "!pip install tensorflow-gpu\n",
        "import tensorflow as tf\n",
        "print(tf.__version__)\n"
      ],
      "execution_count": 0,
      "outputs": []
    },
    {
      "cell_type": "code",
      "metadata": {
        "id": "zsyAAQDw10H0",
        "colab_type": "code",
        "outputId": "b47b7c9a-2ee1-4300-8852-525dddb95b95",
        "colab": {
          "base_uri": "https://localhost:8080/",
          "height": 34
        }
      },
      "source": [
        "#import keras\n",
        "from keras.models import Sequential, load_model\n",
        "from keras.layers import Activation, Dropout, Flatten, Dense, Convolution2D, MaxPooling2D, ZeroPadding2D\n",
        "from keras.preprocessing.image import ImageDataGenerator, image, img_to_array\n",
        "from keras.layers import Convolution2D, MaxPooling2D, ZeroPadding2D"
      ],
      "execution_count": 0,
      "outputs": [
        {
          "output_type": "stream",
          "text": [
            "Using TensorFlow backend.\n"
          ],
          "name": "stderr"
        }
      ]
    },
    {
      "cell_type": "code",
      "metadata": {
        "id": "bS9WudMU2EGF",
        "colab_type": "code",
        "colab": {}
      },
      "source": [
        "#define paths to training and testing folders\n",
        "train_data = \"train/\"\n",
        "test_data = \"test/test1/\"\n",
        "\n",
        "#preprocess images\n",
        "#images should all be the same size\n",
        "img_width, img_height = 224,224\n",
        "\n",
        "#rescale pixel values from [0-255] to [0-1]\n",
        "datagen = ImageDataGenerator(rescale=1./255)\n",
        "\n",
        "train_gen = datagen.flow_from_directory(train_data, target_size= (img_width, img_height), batch_size= 32, class_mode= 'binary')"
      ],
      "execution_count": 0,
      "outputs": []
    },
    {
      "cell_type": "code",
      "metadata": {
        "id": "zQX2rJMV3W1Y",
        "colab_type": "code",
        "colab": {}
      },
      "source": [
        "#define the CNN architecture\n",
        "#sequential model is a linear stack of layers\n",
        "\n",
        "model = Sequential()\n",
        "\n",
        "#this CNN will have three layers\n",
        "#relu is used for the activation function and allows the model to learn more complex functions\n",
        "#max pooling keeps useful information while reducing dimentionality\n",
        "\n",
        "model.add(Convolution2D(32,3,3, input_shape=(img_width,img_height, 3)))\n",
        "model.add(Activation('relu'))\n",
        "model.add(MaxPooling2D(pool_size= (2,2)))\n",
        "\n",
        "model.add(Convolution2D(32,3,3))\n",
        "model.add(Activation('relu'))\n",
        "model.add(MaxPooling2D(pool_size= (2,2)))\n",
        "\n",
        "model.add(Convolution2D(64,3,3))\n",
        "model.add(Activation('relu'))\n",
        "model.add(MaxPooling2D(pool_size= (2,2)))\n",
        "\n",
        "#the features are flattened into one dimension\n",
        "model.add(Flatten())\n",
        "model.add(Dense(64))\n",
        "model.add(Activation('relu'))\n",
        "\n",
        "#dropout is added to prevent overfitting i.e. cannot generalize to new examples\n",
        "#dropout randomly removes activations which forces the network to use other ones\n",
        "model.add(Dropout(0.5))\n",
        "\n",
        "model.add(Dense(1))\n",
        "model.add(Activation('sigmoid'))"
      ],
      "execution_count": 0,
      "outputs": []
    },
    {
      "cell_type": "code",
      "metadata": {
        "id": "D8vDyUkd8z8Y",
        "colab_type": "code",
        "colab": {}
      },
      "source": [
        "#binary_crossentropy is the loss function that measures the inaccuracy of the prediction (backpropagation)\n",
        "#it is used since we only have two categories\n",
        "#the optimizer tweaks the weights of all the layers to minimize the error (gradient descent)\n",
        "model.compile(loss = 'binary_crossentropy', optimizer= 'rmsprop', metrics = ['accuracy'])"
      ],
      "execution_count": 0,
      "outputs": []
    },
    {
      "cell_type": "code",
      "metadata": {
        "id": "-i4f7Wro9kkb",
        "colab_type": "code",
        "colab": {}
      },
      "source": [
        "##parameters for training the model\n",
        "model.fit_generator(train_gen, samples_per_epoch = 2048, nb_epoch = 30)\n",
        "\n",
        "#save the weights after model has been trained\n",
        "model.save(\"drive/My Drive/Colab Notebooks/dognotadog/trainedmodels/V1-dognotdog.h5\")"
      ],
      "execution_count": 0,
      "outputs": []
    },
    {
      "cell_type": "code",
      "metadata": {
        "colab_type": "code",
        "id": "-IYhujFChZ6x",
        "colab": {}
      },
      "source": [
        "#mount Google Drive if needed\n",
        "#from google.colab import drive\n",
        "#drive.mount('/content/drive')\n",
        "\n",
        "#load model\n",
        "trainedmodel = load_model(\"drive/My Drive/Colab Notebooks/dognotadog/trainedmodels/V1-dognotdog.h5\")\n",
        "\n",
        "#get test data that has been seperated into dogs and cats\n",
        "!kaggle datasets download -d chetankv/dogs-cats-images\n",
        "\n",
        "#unzip training and testing data\n",
        "!unzip dogs-cats-images.zip\n",
        "!unzip dog\\ vs\\ cat.zip\n",
        "\n",
        "#evaluate the effectiveness of the trained model\n",
        "test_data = \"dataset/test_set/\"\n",
        "test_gen = datagen.flow_from_directory(test_data, target_size= (img_width, img_height), batch_size= 32, class_mode= 'binary')\n",
        "print(trainedmodel.metrics_names)\n",
        "print(trainedmodel.evaluate_generator(test_gen))"
      ],
      "execution_count": 0,
      "outputs": []
    },
    {
      "cell_type": "code",
      "metadata": {
        "id": "NicHuwmxTgWW",
        "colab_type": "code",
        "colab": {}
      },
      "source": [
        "import numpy as np\n",
        "import matplotlib.pyplot as plt\n",
        "\n",
        "for i in range(20, 30, 1):\n",
        "  testImage = image.load_img(\"test/test1/\" + str(i) + \".jpg\", target_size= (224,224))\n",
        "  testImage = image.img_to_array(testImage)\n",
        "  testImage = np.expand_dims(testImage, axis = 0)\n",
        "\n",
        "  prediction = trainedmodel.predict(testImage)\n",
        "\n",
        "  plt.imshow(image.load_img(\"test/test1/\" + str(i) + \".jpg\", target_size= (224,224)))\n",
        "  \n",
        "  animal = \"\"\n",
        "  if (int(prediction[0][0]) == 0):\n",
        "    animal = str(i) + \": cat\"\n",
        "  else:\n",
        "    animal = str(i) + \": dog\"\n",
        "    \n",
        "  plt.xlabel(\"Predicted Value: \" + animal)\n",
        "  plt.show()\n"
      ],
      "execution_count": 0,
      "outputs": []
    }
  ]
}
